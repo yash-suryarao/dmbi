{
 "cells": [
  {
   "cell_type": "markdown",
   "id": "08cd2828-fdb1-4ead-99a2-9a591fe3a9e2",
   "metadata": {},
   "source": [
    "Text Mining"
   ]
  },
  {
   "cell_type": "code",
   "execution_count": 1,
   "id": "f58c0475-3796-4872-9976-840fc14211a7",
   "metadata": {},
   "outputs": [
    {
     "name": "stdout",
     "output_type": "stream",
     "text": [
      "Student Data:\n",
      "Name: YASH SURYARAO, PRN: 20240804062, Skills: HTML, CSS, FULL STACK JAVA\n",
      "Name: ADITYA KUDALE, PRN: 20240804029, Skills: SPRING BOOT, JAVA, PYTHON\n",
      "Name: PRIYA SHARMA, PRN: 20240804042, Skills: DATA SCIENCE, PYTHON, MACHINE LEARNING\n",
      "Name: RAHUL VERMA, PRN: 20240804033, Skills: DEVOPS, AWS, DOCKER, KUBERNETES\n",
      "Name: NEHA GUPTA, PRN: 20240804044, Skills: ANGULAR, REACT, NODE.JS\n",
      "Name: ARJUN SINGH, PRN: 20240804022, Skills: JAVA, SQL, SPRING BOOT\n",
      "\n",
      "Total number of students: 6\n",
      "Unique names: 6\n",
      "Unique skills: 16\n"
     ]
    }
   ],
   "source": [
    "# Step 1: Load and parse data from a single file\n",
    "students = []  # List to hold each student's information\n",
    "\n",
    "with open(\"students.txt\", \"r\") as f:\n",
    "    data = f.read().strip()  # Read the entire file and strip trailing spaces\n",
    "    \n",
    "    # Split the data by double newlines (each student's data)\n",
    "    student_entries = data.split(\"\\n\\n\")\n",
    "    \n",
    "    for entry in student_entries:\n",
    "        lines = entry.split(\"\\n\")  # Split each entry into lines\n",
    "        \n",
    "        # Parse each student's information\n",
    "        student_info = {\n",
    "            \"Name\": lines[0].split(\":\")[1].strip(),\n",
    "            \"PRN\": lines[1].split(\":\")[1].strip(),\n",
    "            \"Skills\": lines[2].split(\":\")[1].strip()\n",
    "        }\n",
    "        students.append(student_info)\n",
    "\n",
    "# Step 2: Analyze and display data\n",
    "print(\"Student Data:\")\n",
    "for student in students:\n",
    "    print(f\"Name: {student['Name']}, PRN: {student['PRN']}, Skills: {student['Skills']}\")\n",
    "\n",
    "# Additional Analysis\n",
    "total_students = len(students)\n",
    "unique_names = len(set([student[\"Name\"] for student in students]))\n",
    "unique_skills = len(set(skill.strip() for student in students for skill in student[\"Skills\"].split(',')))\n",
    "\n",
    "print(f\"\\nTotal number of students: {total_students}\")\n",
    "print(f\"Unique names: {unique_names}\")\n",
    "print(f\"Unique skills: {unique_skills}\")\n"
   ]
  }
 ],
 "metadata": {
  "kernelspec": {
   "display_name": "Python 3 (ipykernel)",
   "language": "python",
   "name": "python3"
  },
  "language_info": {
   "codemirror_mode": {
    "name": "ipython",
    "version": 3
   },
   "file_extension": ".py",
   "mimetype": "text/x-python",
   "name": "python",
   "nbconvert_exporter": "python",
   "pygments_lexer": "ipython3",
   "version": "3.11.1"
  }
 },
 "nbformat": 4,
 "nbformat_minor": 5
}
