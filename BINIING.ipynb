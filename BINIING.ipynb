{
 "cells": [
  {
   "cell_type": "markdown",
   "id": "29030b95-2e93-4d0e-bcb5-cf9eaa5b7812",
   "metadata": {},
   "source": [
    "BINING METHOD"
   ]
  },
  {
   "cell_type": "code",
   "execution_count": 72,
   "id": "bf11a2f4-a30c-4565-b732-9f3fdc080984",
   "metadata": {},
   "outputs": [
    {
     "data": {
      "text/html": [
       "<div>\n",
       "<style scoped>\n",
       "    .dataframe tbody tr th:only-of-type {\n",
       "        vertical-align: middle;\n",
       "    }\n",
       "\n",
       "    .dataframe tbody tr th {\n",
       "        vertical-align: top;\n",
       "    }\n",
       "\n",
       "    .dataframe thead th {\n",
       "        text-align: right;\n",
       "    }\n",
       "</style>\n",
       "<table border=\"1\" class=\"dataframe\">\n",
       "  <thead>\n",
       "    <tr style=\"text-align: right;\">\n",
       "      <th></th>\n",
       "      <th>ID</th>\n",
       "      <th>Aadhaar</th>\n",
       "      <th>FirstName</th>\n",
       "      <th>LastName</th>\n",
       "      <th>MotherName</th>\n",
       "      <th>FatherName</th>\n",
       "      <th>Sex</th>\n",
       "      <th>Birthday</th>\n",
       "      <th>Age</th>\n",
       "      <th>District ID</th>\n",
       "      <th>Phone</th>\n",
       "      <th>Voter ID</th>\n",
       "      <th>Def_Password</th>\n",
       "    </tr>\n",
       "  </thead>\n",
       "  <tbody>\n",
       "    <tr>\n",
       "      <th>0</th>\n",
       "      <td>1</td>\n",
       "      <td>3591 4628 3661</td>\n",
       "      <td>Akash</td>\n",
       "      <td>Singh</td>\n",
       "      <td>Aishwarya</td>\n",
       "      <td>Bhavesh</td>\n",
       "      <td>M</td>\n",
       "      <td>16-02-1984</td>\n",
       "      <td>37</td>\n",
       "      <td>234</td>\n",
       "      <td>9623412913 , 9862280999</td>\n",
       "      <td>ABC659753</td>\n",
       "      <td>ABC@3661</td>\n",
       "    </tr>\n",
       "    <tr>\n",
       "      <th>1</th>\n",
       "      <td>2</td>\n",
       "      <td>5773 7940 7366</td>\n",
       "      <td>Dipti</td>\n",
       "      <td>Kumar</td>\n",
       "      <td>Gayatri</td>\n",
       "      <td>Dheeraj</td>\n",
       "      <td>F</td>\n",
       "      <td>13-01-1998</td>\n",
       "      <td>23</td>\n",
       "      <td>235</td>\n",
       "      <td>9222325956 , 9234010331</td>\n",
       "      <td>JID563930</td>\n",
       "      <td>JID@7366</td>\n",
       "    </tr>\n",
       "    <tr>\n",
       "      <th>2</th>\n",
       "      <td>3</td>\n",
       "      <td>7820 3429 4038</td>\n",
       "      <td>Shlok</td>\n",
       "      <td>Agarwal</td>\n",
       "      <td>Aparna</td>\n",
       "      <td>Girish</td>\n",
       "      <td>M</td>\n",
       "      <td>04-02-1988</td>\n",
       "      <td>33</td>\n",
       "      <td>234</td>\n",
       "      <td>9722768470 , 9879630940</td>\n",
       "      <td>KOF752745</td>\n",
       "      <td>KOF@4038</td>\n",
       "    </tr>\n",
       "    <tr>\n",
       "      <th>3</th>\n",
       "      <td>4</td>\n",
       "      <td>6169 5028 5641</td>\n",
       "      <td>Rashid</td>\n",
       "      <td>Khan</td>\n",
       "      <td>Indira</td>\n",
       "      <td>Abhay</td>\n",
       "      <td>M</td>\n",
       "      <td>17-10-1976</td>\n",
       "      <td>44</td>\n",
       "      <td>235</td>\n",
       "      <td>9414321457 , 9747286739</td>\n",
       "      <td>KFL505615</td>\n",
       "      <td>KFL@5641</td>\n",
       "    </tr>\n",
       "    <tr>\n",
       "      <th>4</th>\n",
       "      <td>5</td>\n",
       "      <td>7367 4166 6818</td>\n",
       "      <td>Nicole</td>\n",
       "      <td>Dias</td>\n",
       "      <td>Juhi</td>\n",
       "      <td>Deepak</td>\n",
       "      <td>F</td>\n",
       "      <td>08-12-1991</td>\n",
       "      <td>29</td>\n",
       "      <td>234</td>\n",
       "      <td>9913542379 , 9525504465</td>\n",
       "      <td>OKF618375</td>\n",
       "      <td>OKF@6818</td>\n",
       "    </tr>\n",
       "  </tbody>\n",
       "</table>\n",
       "</div>"
      ],
      "text/plain": [
       "   ID         Aadhaar FirstName LastName MotherName FatherName Sex  \\\n",
       "0   1  3591 4628 3661     Akash    Singh  Aishwarya    Bhavesh   M   \n",
       "1   2  5773 7940 7366     Dipti    Kumar    Gayatri    Dheeraj   F   \n",
       "2   3  7820 3429 4038     Shlok  Agarwal     Aparna     Girish   M   \n",
       "3   4  6169 5028 5641    Rashid     Khan     Indira      Abhay   M   \n",
       "4   5  7367 4166 6818    Nicole     Dias       Juhi     Deepak   F   \n",
       "\n",
       "     Birthday  Age  District ID                    Phone   Voter ID  \\\n",
       "0  16-02-1984   37          234  9623412913 , 9862280999  ABC659753   \n",
       "1  13-01-1998   23          235  9222325956 , 9234010331  JID563930   \n",
       "2  04-02-1988   33          234  9722768470 , 9879630940  KOF752745   \n",
       "3  17-10-1976   44          235  9414321457 , 9747286739  KFL505615   \n",
       "4  08-12-1991   29          234  9913542379 , 9525504465  OKF618375   \n",
       "\n",
       "  Def_Password  \n",
       "0     ABC@3661  \n",
       "1     JID@7366  \n",
       "2     KOF@4038  \n",
       "3     KFL@5641  \n",
       "4     OKF@6818  "
      ]
     },
     "execution_count": 72,
     "metadata": {},
     "output_type": "execute_result"
    }
   ],
   "source": [
    "import pandas as pd\n",
    "import numpy as np\n",
    "\n",
    "df=pd.read_csv(\"voter.csv\")\n",
    "df.head()"
   ]
  },
  {
   "cell_type": "code",
   "execution_count": 73,
   "id": "fb3b5c9e-89a7-4536-ad13-e6dc1f382db7",
   "metadata": {},
   "outputs": [
    {
     "name": "stdout",
     "output_type": "stream",
     "text": [
      "[22, 22, 23, 23, 28, 29, 29, 29, 30, 30, 30, 33, 33, 34, 37, 37, 37, 39, 40, 43, 43, 44, 44, 45, 45, 45, 46, 48, 49, 72]\n"
     ]
    }
   ],
   "source": [
    "#Sorting top 30 AGE\n",
    "\n",
    "select=df['Age'].head(30)\n",
    "select=list(select)\n",
    "select.sort()\n",
    "print(select)"
   ]
  },
  {
   "cell_type": "code",
   "execution_count": 74,
   "id": "baedd1e4-3d11-4af1-ac87-197de6cee8fd",
   "metadata": {},
   "outputs": [
    {
     "name": "stdout",
     "output_type": "stream",
     "text": [
      "10\n",
      "[22, 22, 23, 23, 28, 29, 29, 29, 30, 30]\n",
      "[30, 33, 33, 34, 37, 37, 37, 39, 40, 43]\n",
      "[43, 44, 44, 45, 45, 45, 46, 48, 49, 72]\n"
     ]
    }
   ],
   "source": [
    "#Equal Bin\n",
    "\n",
    "size=len(select)//3\n",
    "print(size)\n",
    "\n",
    "bin1=select[:size]\n",
    "bin2=select[size:2*size]\n",
    "bin3=select[2*size:]\n",
    "\n",
    "print(bin1)\n",
    "print(bin2)\n",
    "print(bin3)"
   ]
  },
  {
   "cell_type": "code",
   "execution_count": 75,
   "id": "ab0c0c94-6daa-4a6b-83c9-ba31d6c144c9",
   "metadata": {},
   "outputs": [
    {
     "name": "stdout",
     "output_type": "stream",
     "text": [
      "[26.5, 26.5, 26.5, 26.5, 26.5, 26.5, 26.5, 26.5, 26.5, 26.5]\n"
     ]
    }
   ],
   "source": [
    "#Bin by MEAN\n",
    "\n",
    "mean=sum(bin1)/len(bin1)\n",
    "for i in range(len(bin1)):\n",
    "    bin1[i]=mean\n",
    "\n",
    "print(\"Bin Mean: \\n\",bin1)"
   ]
  },
  {
   "cell_type": "code",
   "execution_count": 69,
   "id": "e8ad0ed1-a799-489a-ba8a-590f37a81635",
   "metadata": {},
   "outputs": [
    {
     "name": "stdout",
     "output_type": "stream",
     "text": [
      "[30, 30, 30, 30, 43, 43, 43, 43, 43, 43]\n"
     ]
    }
   ],
   "source": [
    "#bin by Boundary\n",
    "\n",
    "min_v = bin2[0]\n",
    "max_v = bin2[-1]\n",
    "\n",
    "for i in range(len(bin2)):\n",
    "    min_d = bin2[i]-min_v\n",
    "    max_d = max_v-bin2[i]\n",
    "    \n",
    "    if min_d<max_d:\n",
    "        bin2[i] = min_v\n",
    "    else:\n",
    "        bin2[i] = max_v\n",
    "\n",
    "print(\"Bin Boundaries: \\n\",bin2)"
   ]
  },
  {
   "cell_type": "code",
   "execution_count": 76,
   "id": "dbb12273-1f0c-4f4a-98d4-fc5c65b142cf",
   "metadata": {},
   "outputs": [
    {
     "name": "stdout",
     "output_type": "stream",
     "text": [
      "[45.0, 45.0, 45.0, 45.0, 45.0, 45.0, 45.0, 45.0, 45.0, 45.0]\n"
     ]
    }
   ],
   "source": [
    "#Bin by Median\n",
    "\n",
    "import statistics\n",
    "\n",
    "m=statistics.median(bin3)\n",
    "for i in range(len(bin3)):\n",
    "    bin3[i] = m\n",
    "\n",
    "print(\"Bin Median: \\n\",bin3)"
   ]
  }
 ],
 "metadata": {
  "kernelspec": {
   "display_name": "Python 3 (ipykernel)",
   "language": "python",
   "name": "python3"
  },
  "language_info": {
   "codemirror_mode": {
    "name": "ipython",
    "version": 3
   },
   "file_extension": ".py",
   "mimetype": "text/x-python",
   "name": "python",
   "nbconvert_exporter": "python",
   "pygments_lexer": "ipython3",
   "version": "3.11.1"
  }
 },
 "nbformat": 4,
 "nbformat_minor": 5
}
