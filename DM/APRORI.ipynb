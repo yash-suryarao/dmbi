{
 "cells": [
  {
   "cell_type": "markdown",
   "id": "f2f49d1c-8f8f-4f3b-96f9-fa4c15b43e14",
   "metadata": {},
   "source": [
    "Perform Association Technique (APRIORI ALGORITHM)"
   ]
  },
  {
   "cell_type": "code",
   "execution_count": 1,
   "id": "bd63f97a-55f0-48e0-81ca-a0930a648a39",
   "metadata": {},
   "outputs": [
    {
     "name": "stdout",
     "output_type": "stream",
     "text": [
      "Requirement already satisfied: apyori in c:\\users\\yash\\appdata\\local\\programs\\python\\python311\\lib\\site-packages (1.1.2)\n"
     ]
    },
    {
     "name": "stderr",
     "output_type": "stream",
     "text": [
      "\n",
      "[notice] A new release of pip is available: 24.2 -> 24.3.1\n",
      "[notice] To update, run: python.exe -m pip install --upgrade pip\n"
     ]
    }
   ],
   "source": [
    "!pip install apyori"
   ]
  },
  {
   "cell_type": "code",
   "execution_count": 2,
   "id": "f23a752f-6efd-463e-b77c-e9df5380cd1a",
   "metadata": {},
   "outputs": [
    {
     "data": {
      "text/html": [
       "<div>\n",
       "<style scoped>\n",
       "    .dataframe tbody tr th:only-of-type {\n",
       "        vertical-align: middle;\n",
       "    }\n",
       "\n",
       "    .dataframe tbody tr th {\n",
       "        vertical-align: top;\n",
       "    }\n",
       "\n",
       "    .dataframe thead th {\n",
       "        text-align: right;\n",
       "    }\n",
       "</style>\n",
       "<table border=\"1\" class=\"dataframe\">\n",
       "  <thead>\n",
       "    <tr style=\"text-align: right;\">\n",
       "      <th></th>\n",
       "      <th>PassengerId</th>\n",
       "      <th>Survived</th>\n",
       "      <th>Pclass</th>\n",
       "      <th>Name</th>\n",
       "      <th>Sex</th>\n",
       "      <th>Age</th>\n",
       "      <th>SibSp</th>\n",
       "      <th>Parch</th>\n",
       "      <th>Ticket</th>\n",
       "      <th>Fare</th>\n",
       "      <th>Cabin</th>\n",
       "      <th>Embarked</th>\n",
       "    </tr>\n",
       "  </thead>\n",
       "  <tbody>\n",
       "    <tr>\n",
       "      <th>0</th>\n",
       "      <td>892</td>\n",
       "      <td>0</td>\n",
       "      <td>3</td>\n",
       "      <td>Kelly, Mr. James</td>\n",
       "      <td>male</td>\n",
       "      <td>34.5</td>\n",
       "      <td>0</td>\n",
       "      <td>0</td>\n",
       "      <td>330911</td>\n",
       "      <td>7.8292</td>\n",
       "      <td>NaN</td>\n",
       "      <td>Q</td>\n",
       "    </tr>\n",
       "    <tr>\n",
       "      <th>1</th>\n",
       "      <td>893</td>\n",
       "      <td>1</td>\n",
       "      <td>3</td>\n",
       "      <td>Wilkes, Mrs. James (Ellen Needs)</td>\n",
       "      <td>female</td>\n",
       "      <td>47.0</td>\n",
       "      <td>1</td>\n",
       "      <td>0</td>\n",
       "      <td>363272</td>\n",
       "      <td>7.0000</td>\n",
       "      <td>NaN</td>\n",
       "      <td>S</td>\n",
       "    </tr>\n",
       "    <tr>\n",
       "      <th>2</th>\n",
       "      <td>894</td>\n",
       "      <td>0</td>\n",
       "      <td>2</td>\n",
       "      <td>Myles, Mr. Thomas Francis</td>\n",
       "      <td>male</td>\n",
       "      <td>62.0</td>\n",
       "      <td>0</td>\n",
       "      <td>0</td>\n",
       "      <td>240276</td>\n",
       "      <td>9.6875</td>\n",
       "      <td>NaN</td>\n",
       "      <td>Q</td>\n",
       "    </tr>\n",
       "    <tr>\n",
       "      <th>3</th>\n",
       "      <td>895</td>\n",
       "      <td>0</td>\n",
       "      <td>3</td>\n",
       "      <td>Wirz, Mr. Albert</td>\n",
       "      <td>male</td>\n",
       "      <td>27.0</td>\n",
       "      <td>0</td>\n",
       "      <td>0</td>\n",
       "      <td>315154</td>\n",
       "      <td>8.6625</td>\n",
       "      <td>NaN</td>\n",
       "      <td>S</td>\n",
       "    </tr>\n",
       "    <tr>\n",
       "      <th>4</th>\n",
       "      <td>896</td>\n",
       "      <td>1</td>\n",
       "      <td>3</td>\n",
       "      <td>Hirvonen, Mrs. Alexander (Helga E Lindqvist)</td>\n",
       "      <td>female</td>\n",
       "      <td>22.0</td>\n",
       "      <td>1</td>\n",
       "      <td>1</td>\n",
       "      <td>3101298</td>\n",
       "      <td>12.2875</td>\n",
       "      <td>NaN</td>\n",
       "      <td>S</td>\n",
       "    </tr>\n",
       "  </tbody>\n",
       "</table>\n",
       "</div>"
      ],
      "text/plain": [
       "   PassengerId  Survived  Pclass  \\\n",
       "0          892         0       3   \n",
       "1          893         1       3   \n",
       "2          894         0       2   \n",
       "3          895         0       3   \n",
       "4          896         1       3   \n",
       "\n",
       "                                           Name     Sex   Age  SibSp  Parch  \\\n",
       "0                              Kelly, Mr. James    male  34.5      0      0   \n",
       "1              Wilkes, Mrs. James (Ellen Needs)  female  47.0      1      0   \n",
       "2                     Myles, Mr. Thomas Francis    male  62.0      0      0   \n",
       "3                              Wirz, Mr. Albert    male  27.0      0      0   \n",
       "4  Hirvonen, Mrs. Alexander (Helga E Lindqvist)  female  22.0      1      1   \n",
       "\n",
       "    Ticket     Fare Cabin Embarked  \n",
       "0   330911   7.8292   NaN        Q  \n",
       "1   363272   7.0000   NaN        S  \n",
       "2   240276   9.6875   NaN        Q  \n",
       "3   315154   8.6625   NaN        S  \n",
       "4  3101298  12.2875   NaN        S  "
      ]
     },
     "execution_count": 2,
     "metadata": {},
     "output_type": "execute_result"
    }
   ],
   "source": [
    "# Apriori       #TRANSCATION DATA SET WITH TRANS ID AND TRANSCATION\n",
    "import pandas as pd\n",
    "import numpy as np\n",
    "from apyori import apriori\n",
    "\n",
    "df=pd.read_csv(\"Titanic.csv\")\n",
    "df.head()"
   ]
  },
  {
   "cell_type": "code",
   "execution_count": 3,
   "id": "ffc9d659-0964-44b7-8caa-06aceecb64f3",
   "metadata": {},
   "outputs": [
    {
     "data": {
      "text/plain": [
       "(418, 12)"
      ]
     },
     "execution_count": 3,
     "metadata": {},
     "output_type": "execute_result"
    }
   ],
   "source": [
    "df.shape"
   ]
  },
  {
   "cell_type": "code",
   "execution_count": 4,
   "id": "a4547e70-df4c-4f6e-b94b-ea1195d13164",
   "metadata": {},
   "outputs": [],
   "source": [
    "record=[]\n",
    "for i in range(0,17):\n",
    "    record.append([str(df.values[i,j]) for j in range(0,5)])"
   ]
  },
  {
   "cell_type": "code",
   "execution_count": 5,
   "id": "340054ed-d668-4e49-96a9-811bea8abc47",
   "metadata": {},
   "outputs": [
    {
     "name": "stdout",
     "output_type": "stream",
     "text": [
      "5\n",
      "RelationRecord(items=frozenset({'0', 'male'}), support=0.5882352941176471, ordered_statistics=[OrderedStatistic(items_base=frozenset({'0'}), items_add=frozenset({'male'}), confidence=1.0, lift=1.7), OrderedStatistic(items_base=frozenset({'male'}), items_add=frozenset({'0'}), confidence=1.0, lift=1.7)])\n",
      "RelationRecord(items=frozenset({'1', 'female'}), support=0.4117647058823529, ordered_statistics=[OrderedStatistic(items_base=frozenset({'female'}), items_add=frozenset({'1'}), confidence=1.0, lift=2.125)])\n",
      "RelationRecord(items=frozenset({'0', 'male', '2'}), support=0.23529411764705882, ordered_statistics=[OrderedStatistic(items_base=frozenset({'0', '2'}), items_add=frozenset({'male'}), confidence=1.0, lift=1.7), OrderedStatistic(items_base=frozenset({'male', '2'}), items_add=frozenset({'0'}), confidence=1.0, lift=1.7)])\n",
      "RelationRecord(items=frozenset({'0', 'male', '3'}), support=0.29411764705882354, ordered_statistics=[OrderedStatistic(items_base=frozenset({'0', '3'}), items_add=frozenset({'male'}), confidence=1.0, lift=1.7), OrderedStatistic(items_base=frozenset({'male', '3'}), items_add=frozenset({'0'}), confidence=1.0, lift=1.7)])\n",
      "RelationRecord(items=frozenset({'1', 'female', '3'}), support=0.23529411764705882, ordered_statistics=[OrderedStatistic(items_base=frozenset({'1', '3'}), items_add=frozenset({'female'}), confidence=1.0, lift=2.428571428571429), OrderedStatistic(items_base=frozenset({'female', '3'}), items_add=frozenset({'1'}), confidence=1.0, lift=2.125)])\n"
     ]
    }
   ],
   "source": [
    "association_rules=apriori(record,min_support=0.1,min_confidence=0.9)\n",
    "association_results=list(association_rules)\n",
    "print(len(association_results))\n",
    "print('\\n'.join(map(str,association_results)))\n"
   ]
  }
 ],
 "metadata": {
  "kernelspec": {
   "display_name": "Python 3 (ipykernel)",
   "language": "python",
   "name": "python3"
  },
  "language_info": {
   "codemirror_mode": {
    "name": "ipython",
    "version": 3
   },
   "file_extension": ".py",
   "mimetype": "text/x-python",
   "name": "python",
   "nbconvert_exporter": "python",
   "pygments_lexer": "ipython3",
   "version": "3.11.1"
  }
 },
 "nbformat": 4,
 "nbformat_minor": 5
}
