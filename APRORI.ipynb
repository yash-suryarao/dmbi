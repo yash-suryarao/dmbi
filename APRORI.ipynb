{
 "cells": [
  {
   "cell_type": "markdown",
   "id": "f2f49d1c-8f8f-4f3b-96f9-fa4c15b43e14",
   "metadata": {},
   "source": [
    "Perform Association Technique (APRIORI ALGORITHM)"
   ]
  },
  {
   "cell_type": "code",
   "execution_count": 2,
   "id": "bd63f97a-55f0-48e0-81ca-a0930a648a39",
   "metadata": {},
   "outputs": [
    {
     "name": "stdout",
     "output_type": "stream",
     "text": [
      "Requirement already satisfied: apyori in c:\\users\\yash\\appdata\\local\\programs\\python\\python311\\lib\\site-packages (1.1.2)\n"
     ]
    },
    {
     "name": "stderr",
     "output_type": "stream",
     "text": [
      "\n",
      "[notice] A new release of pip is available: 24.2 -> 24.3.1\n",
      "[notice] To update, run: python.exe -m pip install --upgrade pip\n"
     ]
    }
   ],
   "source": [
    "!pip install apyori"
   ]
  },
  {
   "cell_type": "code",
   "execution_count": 6,
   "id": "f23a752f-6efd-463e-b77c-e9df5380cd1a",
   "metadata": {},
   "outputs": [
    {
     "data": {
      "text/html": [
       "<div>\n",
       "<style scoped>\n",
       "    .dataframe tbody tr th:only-of-type {\n",
       "        vertical-align: middle;\n",
       "    }\n",
       "\n",
       "    .dataframe tbody tr th {\n",
       "        vertical-align: top;\n",
       "    }\n",
       "\n",
       "    .dataframe thead th {\n",
       "        text-align: right;\n",
       "    }\n",
       "</style>\n",
       "<table border=\"1\" class=\"dataframe\">\n",
       "  <thead>\n",
       "    <tr style=\"text-align: right;\">\n",
       "      <th></th>\n",
       "      <th>CustomerID</th>\n",
       "      <th>Genre</th>\n",
       "      <th>Age</th>\n",
       "      <th>Annual Income (k$)</th>\n",
       "      <th>Spending Score (1-100)</th>\n",
       "    </tr>\n",
       "  </thead>\n",
       "  <tbody>\n",
       "    <tr>\n",
       "      <th>0</th>\n",
       "      <td>1</td>\n",
       "      <td>Male</td>\n",
       "      <td>19</td>\n",
       "      <td>15</td>\n",
       "      <td>39</td>\n",
       "    </tr>\n",
       "    <tr>\n",
       "      <th>1</th>\n",
       "      <td>2</td>\n",
       "      <td>Male</td>\n",
       "      <td>21</td>\n",
       "      <td>15</td>\n",
       "      <td>81</td>\n",
       "    </tr>\n",
       "    <tr>\n",
       "      <th>2</th>\n",
       "      <td>3</td>\n",
       "      <td>Female</td>\n",
       "      <td>20</td>\n",
       "      <td>16</td>\n",
       "      <td>6</td>\n",
       "    </tr>\n",
       "    <tr>\n",
       "      <th>3</th>\n",
       "      <td>4</td>\n",
       "      <td>Female</td>\n",
       "      <td>23</td>\n",
       "      <td>16</td>\n",
       "      <td>77</td>\n",
       "    </tr>\n",
       "    <tr>\n",
       "      <th>4</th>\n",
       "      <td>5</td>\n",
       "      <td>Female</td>\n",
       "      <td>31</td>\n",
       "      <td>17</td>\n",
       "      <td>40</td>\n",
       "    </tr>\n",
       "  </tbody>\n",
       "</table>\n",
       "</div>"
      ],
      "text/plain": [
       "   CustomerID   Genre  Age  Annual Income (k$)  Spending Score (1-100)\n",
       "0           1    Male   19                  15                      39\n",
       "1           2    Male   21                  15                      81\n",
       "2           3  Female   20                  16                       6\n",
       "3           4  Female   23                  16                      77\n",
       "4           5  Female   31                  17                      40"
      ]
     },
     "execution_count": 6,
     "metadata": {},
     "output_type": "execute_result"
    }
   ],
   "source": [
    "# Apriori       #TRANSCATION DATA SET WITH TRANS ID AND TRANSCATION\n",
    "import pandas as pd\n",
    "import numpy as np\n",
    "from apyori import apriori\n",
    "\n",
    "df=pd.read_csv(\"shopping_data.csv\")\n",
    "df.head()"
   ]
  },
  {
   "cell_type": "code",
   "execution_count": 7,
   "id": "ffc9d659-0964-44b7-8caa-06aceecb64f3",
   "metadata": {},
   "outputs": [
    {
     "data": {
      "text/plain": [
       "(200, 5)"
      ]
     },
     "execution_count": 7,
     "metadata": {},
     "output_type": "execute_result"
    }
   ],
   "source": [
    "df.shape"
   ]
  },
  {
   "cell_type": "code",
   "execution_count": 9,
   "id": "a4547e70-df4c-4f6e-b94b-ea1195d13164",
   "metadata": {},
   "outputs": [],
   "source": [
    "record=[]\n",
    "for i in range(0,17):\n",
    "    record.append([str(df.values[i,j]) for j in range(0,5)])"
   ]
  },
  {
   "cell_type": "code",
   "execution_count": 10,
   "id": "340054ed-d668-4e49-96a9-811bea8abc47",
   "metadata": {},
   "outputs": [
    {
     "name": "stdout",
     "output_type": "stream",
     "text": [
      "9\n",
      "RelationRecord(items=frozenset({'13', '15'}), support=0.11764705882352941, ordered_statistics=[OrderedStatistic(items_base=frozenset({'13'}), items_add=frozenset({'15'}), confidence=1.0, lift=4.25)])\n",
      "RelationRecord(items=frozenset({'13', '20'}), support=0.11764705882352941, ordered_statistics=[OrderedStatistic(items_base=frozenset({'13'}), items_add=frozenset({'20'}), confidence=1.0, lift=3.4)])\n",
      "RelationRecord(items=frozenset({'Female', '17'}), support=0.17647058823529413, ordered_statistics=[OrderedStatistic(items_base=frozenset({'17'}), items_add=frozenset({'Female'}), confidence=1.0, lift=1.5454545454545454)])\n",
      "RelationRecord(items=frozenset({'Female', '18'}), support=0.11764705882352941, ordered_statistics=[OrderedStatistic(items_base=frozenset({'18'}), items_add=frozenset({'Female'}), confidence=1.0, lift=1.5454545454545454)])\n",
      "RelationRecord(items=frozenset({'Female', '23'}), support=0.11764705882352941, ordered_statistics=[OrderedStatistic(items_base=frozenset({'23'}), items_add=frozenset({'Female'}), confidence=1.0, lift=1.5454545454545454)])\n",
      "RelationRecord(items=frozenset({'Female', '35'}), support=0.17647058823529413, ordered_statistics=[OrderedStatistic(items_base=frozenset({'35'}), items_add=frozenset({'Female'}), confidence=1.0, lift=1.5454545454545454)])\n",
      "RelationRecord(items=frozenset({'Female', '6'}), support=0.17647058823529413, ordered_statistics=[OrderedStatistic(items_base=frozenset({'6'}), items_add=frozenset({'Female'}), confidence=1.0, lift=1.5454545454545454)])\n",
      "RelationRecord(items=frozenset({'Female', '77'}), support=0.11764705882352941, ordered_statistics=[OrderedStatistic(items_base=frozenset({'77'}), items_add=frozenset({'Female'}), confidence=1.0, lift=1.5454545454545454)])\n",
      "RelationRecord(items=frozenset({'13', '20', '15'}), support=0.11764705882352941, ordered_statistics=[OrderedStatistic(items_base=frozenset({'13'}), items_add=frozenset({'20', '15'}), confidence=1.0, lift=8.5), OrderedStatistic(items_base=frozenset({'13', '15'}), items_add=frozenset({'20'}), confidence=1.0, lift=3.4), OrderedStatistic(items_base=frozenset({'13', '20'}), items_add=frozenset({'15'}), confidence=1.0, lift=4.25), OrderedStatistic(items_base=frozenset({'20', '15'}), items_add=frozenset({'13'}), confidence=1.0, lift=8.5)])\n"
     ]
    }
   ],
   "source": [
    "association_rules=apriori(record,min_support=0.1,min_confidence=0.9)\n",
    "association_results=list(association_rules)\n",
    "print(len(association_results))\n",
    "print('\\n'.join(map(str,association_results)))\n"
   ]
  }
 ],
 "metadata": {
  "kernelspec": {
   "display_name": "Python 3 (ipykernel)",
   "language": "python",
   "name": "python3"
  },
  "language_info": {
   "codemirror_mode": {
    "name": "ipython",
    "version": 3
   },
   "file_extension": ".py",
   "mimetype": "text/x-python",
   "name": "python",
   "nbconvert_exporter": "python",
   "pygments_lexer": "ipython3",
   "version": "3.11.1"
  }
 },
 "nbformat": 4,
 "nbformat_minor": 5
}
